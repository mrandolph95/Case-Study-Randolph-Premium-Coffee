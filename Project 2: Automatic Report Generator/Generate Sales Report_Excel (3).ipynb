{
 "cells": [
  {
   "cell_type": "markdown",
   "id": "ee5dd8ce",
   "metadata": {},
   "source": [
    "# Automated Report Generator - Microsoft Excel"
   ]
  },
  {
   "cell_type": "markdown",
   "id": "a157f67f",
   "metadata": {},
   "source": [
    "The below automates cleaning and preparing the data in a Microsoft Excel sheet with coffee sales data."
   ]
  },
  {
   "cell_type": "markdown",
   "id": "8238c2cf",
   "metadata": {},
   "source": [
    "Requirements:\n",
    "\n",
    "    - pandas\n",
    "    - xlwings\n",
    "    - time"
   ]
  },
  {
   "cell_type": "code",
   "execution_count": 1,
   "id": "1f291acf",
   "metadata": {},
   "outputs": [
    {
     "name": "stdout",
     "output_type": "stream",
     "text": [
      "Requirement already satisfied: xlwings in /opt/anaconda3/lib/python3.9/site-packages (0.24.9)\n",
      "Requirement already satisfied: psutil>=2.0.0 in /opt/anaconda3/lib/python3.9/site-packages (from xlwings) (5.8.0)\n",
      "Requirement already satisfied: appscript>=1.0.1 in /opt/anaconda3/lib/python3.9/site-packages (from xlwings) (1.1.2)\n",
      "Note: you may need to restart the kernel to use updated packages.\n"
     ]
    }
   ],
   "source": [
    "pip install xlwings"
   ]
  },
  {
   "cell_type": "code",
   "execution_count": 2,
   "id": "1061925a",
   "metadata": {},
   "outputs": [],
   "source": [
    "import pandas as pd\n",
    "import xlwings as xw\n",
    "import time"
   ]
  },
  {
   "cell_type": "code",
   "execution_count": 16,
   "id": "4c4ac0e7",
   "metadata": {},
   "outputs": [],
   "source": [
    "Excel = xw.App(visible=True) # can change to false if want to hide Excel"
   ]
  },
  {
   "cell_type": "code",
   "execution_count": 17,
   "id": "0ce82493",
   "metadata": {},
   "outputs": [],
   "source": [
    "coffee_data = Excel.books.open('coffeeOrdersData.xlsx')\n",
    "\n",
    "orders_sheet = coffee_data.sheets['orders']"
   ]
  },
  {
   "cell_type": "code",
   "execution_count": 18,
   "id": "ba0e8413",
   "metadata": {},
   "outputs": [],
   "source": [
    "def generate_sales_report():\n",
    "    \n",
    "        try:\n",
    "\n",
    "            # Find the last column with data in column A (or any other column)\n",
    "            last_column = orders_sheet.range('A1').end('right').column\n",
    "\n",
    "            # Find the last row with data in column A (or any other column)\n",
    "            last_row = orders_sheet.range('A' + str(orders_sheet.cells.last_cell.row)).end('up').row\n",
    "\n",
    "            # Customer name\n",
    "            for i in range(2, last_row + 1):\n",
    "                if not orders_sheet.range(f'F{i}').value: # If the column is empty  \n",
    "                    find_customer_name = f'=INDEX(customers!$A$1:$I$1001, MATCH(orders!$C{i}, customers!$A$1:$A${last_row}, 0), MATCH(orders!F$1, customers!$A$1:$I$1, 0))'\n",
    "                    orders_sheet.range(f'F{i}').formula = find_customer_name\n",
    "\n",
    "            # Customer email\n",
    "            for i in range(2, last_row + 1):\n",
    "                if not orders_sheet.range(f'G{i}').value:  \n",
    "                    find_email = f'=INDEX(customers!$A$1:$I$1001, MATCH(orders!$C{i}, customers!$A$1:$A${last_row}, 0), MATCH(orders!G$1, customers!$A$1:$I$1, 0))'\n",
    "                    orders_sheet.range(f'G{i}').formula = find_email\n",
    "\n",
    "            # Country\n",
    "            for i in range(2, last_row + 1):\n",
    "                if not orders_sheet.range(f'H{i}').value: \n",
    "                    find_country = f'=INDEX(customers!$A$1:$I$1001, MATCH(orders!$C{i}, customers!$A$1:$A${last_row}, 0), MATCH(orders!H$1, customers!$A$1:$I$1, 0))'\n",
    "                    orders_sheet.range(f'H{i}').formula = find_country\n",
    "\n",
    "            # Coffee type\n",
    "            for i in range(2, last_row + 1):\n",
    "                if not orders_sheet.range(f'I{i}').value:   \n",
    "                    find_coffee_type = f'=INDEX(products!$A$1:$G$49, MATCH(orders!$D{i}, products!$A$1:$A${last_row}, 0), MATCH(orders!I$1, products!$A$1:$G$1, 0))'\n",
    "                    orders_sheet.range(f'I{i}').formula = find_coffee_type\n",
    "\n",
    "            # Roast type\n",
    "            for i in range(2, last_row + 1):\n",
    "                if not orders_sheet.range(f'J{i}').value: \n",
    "                    find_roast_type = f'=INDEX(products!$A$1:$G$49, MATCH(orders!$D{i}, products!$A$1:$A${last_row}, 0), MATCH(orders!J$1, products!$A$1:$G$1, 0))'\n",
    "                    orders_sheet.range(f'J{i}').formula = find_roast_type\n",
    "\n",
    "            # Size\n",
    "            for i in range(2, last_row + 1):\n",
    "                if not orders_sheet.range(f'K{i}').value:     \n",
    "                    find_bag_size = f'=INDEX(products!$A$1:$G$49, MATCH(orders!$D{i}, products!$A$1:$A${last_row}, 0), MATCH(orders!K$1, products!$A$1:$G$1, 0))'\n",
    "                    orders_sheet.range(f'K{i}').formula = find_bag_size\n",
    "\n",
    "            # Unit price\n",
    "            for i in range(2, last_row + 1):\n",
    "                if not orders_sheet.range(f'L{i}').value: \n",
    "                    find_unit_price = f'=INDEX(products!$A$1:$G$49, MATCH(orders!$D{i}, products!$A$1:$A${last_row}, 0), MATCH(orders!L$1, products!$A$1:$G$1, 0))'\n",
    "                    orders_sheet.range(f'L{i}').formula = find_unit_price\n",
    "            # Sales\n",
    "            for i in range(2, last_row + 1):\n",
    "                if not orders_sheet.range(f'M{i}').value: \n",
    "                    orders_sheet.range(f'M{i}').formula = f'=L{i}*E{i}'\n",
    "\n",
    "            # Adding titles for new columns: Coffee Type Name, Roast Type Name\n",
    "            orders_sheet.range('N1').value = \"Coffee Type Name\"\n",
    "            orders_sheet.range('O1').value = \"Roast Type Name\"\n",
    "\n",
    "            # Coffee Type Name\n",
    "            for i in range(2, last_row + 1):\n",
    "                if not orders_sheet.range(f'N{i}').value: \n",
    "                    CoffeeTypeName = f'=IFS(I{i}=\"Rob\", \"Robusta\", I{i}=\"Exc\", \"Excelsa\", I{i}=\"Ara\", \"Arabica\", I{i}=\"Lib\",\"Liberica\", TRUE, \"\")'\n",
    "                    orders_sheet.range(f'N{i}').formula = CoffeeTypeName\n",
    "\n",
    "            # Roast Type Name\n",
    "            for i in range(2, last_row + 1):  # Loop from row 2 to last row\n",
    "                if not orders_sheet.range(f'O{i}').value:  # If N column is empty\n",
    "                    RoastTypeName = f'=IFS(J{i}=\"M\", \"Medium\", J{i}=\"L\", \"Light\", J{i}=\"D\", \"Dark\", TRUE, \"\")'\n",
    "                    orders_sheet.range(f'O{i}').formula = RoastTypeName\n",
    "\n",
    "\n",
    "        except FileNotFoundError as e:\n",
    "            print(f\"Error: The file was not found. Please check the file path. ({e})\")\n",
    "\n",
    "        except KeyError as e:\n",
    "            print(f\"Error: The specified sheet was not found in the workbook. ({e})\")\n",
    "\n",
    "        except Exception as e:\n",
    "            print(f\"An unexpected error occurred: {e}\")\n",
    "\n",
    "        finally:\n",
    "\n",
    "            RandolphPremiumCoffeeSales = 'RandolphPremiumCoffeeSales_test.xlsx'\n",
    "            coffee_data.save(RandolphPremiumCoffeeSales)\n",
    "\n",
    "            coffee_data.close()\n",
    "\n",
    "            xw.App().quit()\n",
    "        \n",
    "        return \"Sales Report Generated\""
   ]
  },
  {
   "cell_type": "markdown",
   "id": "c27518b9",
   "metadata": {},
   "source": [
    "Report generation time:"
   ]
  },
  {
   "cell_type": "code",
   "execution_count": 19,
   "id": "29b0270a",
   "metadata": {},
   "outputs": [
    {
     "name": "stdout",
     "output_type": "stream",
     "text": [
      "The function took 22.09 minutes or 1325.24 to run.\n"
     ]
    }
   ],
   "source": [
    "start_time = time.time()\n",
    "generate_sales_report()  \n",
    "end_time = time.time()  \n",
    "\n",
    "elapsed_time = end_time - start_time  # Time in seconds\n",
    "\n",
    "# Convert seconds to minutes\n",
    "elapsed_time_minutes = elapsed_time / 60\n",
    "\n",
    "print(f\"The function took {elapsed_time_minutes:.2f} minutes or {elapsed_time:.2f} to run.\")"
   ]
  },
  {
   "cell_type": "code",
   "execution_count": null,
   "id": "71059192",
   "metadata": {},
   "outputs": [],
   "source": []
  }
 ],
 "metadata": {
  "kernelspec": {
   "display_name": "Python 3 (ipykernel)",
   "language": "python",
   "name": "python3"
  },
  "language_info": {
   "codemirror_mode": {
    "name": "ipython",
    "version": 3
   },
   "file_extension": ".py",
   "mimetype": "text/x-python",
   "name": "python",
   "nbconvert_exporter": "python",
   "pygments_lexer": "ipython3",
   "version": "3.9.7"
  }
 },
 "nbformat": 4,
 "nbformat_minor": 5
}
