{
 "cells": [
  {
   "cell_type": "code",
   "execution_count": 1,
   "id": "61f59455",
   "metadata": {},
   "outputs": [],
   "source": [
    "import requests\n",
    "import schedule\n",
    "import time\n",
    "from time import sleep\n",
    "from selenium import webdriver\n",
    "from selenium.webdriver.common.keys import Keys\n",
    "from selenium.webdriver.common.by import By\n",
    "from bs4 import BeautifulSoup\n",
    "from infos import PATH"
   ]
  },
  {
   "cell_type": "code",
   "execution_count": 78,
   "id": "a888325d",
   "metadata": {},
   "outputs": [],
   "source": [
    "def pull_data_from_youtube():\n",
    "\n",
    "    driver = webdriver.Chrome()\n",
    "\n",
    "    youtube = driver.get('https://www.youtube.com/')\n",
    "\n",
    "    sleep(5)\n",
    "    search = driver.find_element(By.NAME,\"search_query\")\n",
    "    search.send_keys(\"the only excel portfolio project you need mo chen\",Keys.RETURN)\n",
    "\n",
    "    sleep(5)\n",
    "    driver.find_element(By.LINK_TEXT,\"The ONLY EXCEL PORTFOLIO PROJECT YOU NEED\").click()\n",
    "\n",
    "    sleep(5)\n",
    "    more_info = driver.find_element(By.ID,\"snippet\")\n",
    "    more_info.click()\n",
    "\n",
    "    sleep(5)\n",
    "    driver.find_element(By.PARTIAL_LINK_TEXT,\"//github.com/mochen862/\").click()\n",
    "\n",
    "    # Find the name of and switches to the second window, Github repository\n",
    "    windows = driver.window_handles\n",
    "    for window in windows:\n",
    "        driver.switch_to.window(window)\n",
    "\n",
    "    driver.switch_to.window(windows[0])  # Switch back to YouTube window\n",
    "    driver.close() #closes YouTube window\n",
    "\n",
    "    sleep(5)\n",
    "    driver.switch_to.window(window)  # Switch back to Github window\n",
    "\n",
    "    driver.find_element(By.PARTIAL_LINK_TEXT,\"coffeeOrdersData\").click()\n",
    "\n",
    "    sleep(5)\n",
    "    driver.find_element(By.LINK_TEXT,\"View raw\").click()\n",
    "\n",
    "    sleep(8)\n",
    "    driver.quit()"
   ]
  },
  {
   "cell_type": "code",
   "execution_count": null,
   "id": "0cad1953",
   "metadata": {},
   "outputs": [],
   "source": [
    "# Schedule to pull data every day at 1:00 p.m.\n",
    "def to_do():\n",
    "    print(\"On it, boss!\")\n",
    "    \n",
    "schedule.every().day.at(\"13:00\").do(pull_data_from_youtube)\n",
    "\n",
    "\n",
    "while True:\n",
    "    schedule.run_pending()\n",
    "    time.sleep(1)"
   ]
  }
 ],
 "metadata": {
  "kernelspec": {
   "display_name": "Python 3 (ipykernel)",
   "language": "python",
   "name": "python3"
  },
  "language_info": {
   "codemirror_mode": {
    "name": "ipython",
    "version": 3
   },
   "file_extension": ".py",
   "mimetype": "text/x-python",
   "name": "python",
   "nbconvert_exporter": "python",
   "pygments_lexer": "ipython3",
   "version": "3.9.7"
  }
 },
 "nbformat": 4,
 "nbformat_minor": 5
}
